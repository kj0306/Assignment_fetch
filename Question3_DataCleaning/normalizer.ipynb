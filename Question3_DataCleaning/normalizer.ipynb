{
 "cells": [
  {
   "cell_type": "markdown",
   "metadata": {},
   "source": [
    "To convert receipts.json into 2 files: receipts_main.csv and receipts_items.csv"
   ]
  },
  {
   "cell_type": "code",
   "execution_count": 1,
   "metadata": {},
   "outputs": [],
   "source": [
    "import json\n",
    "\n",
    "def process_receipts(input_file, output_file_old, output_file_new):\n",
    "    # Load the JSON data from the input file\n",
    "    with open(input_file, 'r') as f:\n",
    "        receipts = json.load(f)\n",
    "    \n",
    "    # Initialize lists for the old data (without rewardsReceiptItemList) and new data (only items)\n",
    "    old_receipts = []\n",
    "    all_items_with_receipt_id = []\n",
    "    \n",
    "    # Iterate through all the receipts\n",
    "    for receipt in receipts:\n",
    "        # Remove rewardsReceiptItemList from the receipt for the old JSON\n",
    "        receipt_copy = receipt.copy()\n",
    "        receipt_id = receipt_copy.get('_id', {}).get('$oid', 'unknown_id')\n",
    "        if 'rewardsReceiptItemList' in receipt_copy:\n",
    "            del receipt_copy['rewardsReceiptItemList']\n",
    "        \n",
    "        # Add the modified receipt to the old_receipts list\n",
    "        old_receipts.append(receipt_copy)\n",
    "        \n",
    "        # If rewardsReceiptItemList exists, process its items and add receiptId to each\n",
    "        if 'rewardsReceiptItemList' in receipt:\n",
    "            for item in receipt['rewardsReceiptItemList']:\n",
    "                item_with_id = item.copy()\n",
    "                item_with_id['receiptId'] = receipt_id\n",
    "                all_items_with_receipt_id.append(item_with_id)\n",
    "    \n",
    "    # Write the modified old receipts (without rewardsReceiptItemList) to output_file_old\n",
    "    with open(output_file_old, 'w') as f:\n",
    "        json.dump(old_receipts, f, indent=4)\n",
    "    \n",
    "    # Write all items with receiptId to output_file_new\n",
    "    with open(output_file_new, 'w') as f:\n",
    "        json.dump(all_items_with_receipt_id, f, indent=4)\n",
    "\n",
    "# Example usage\n",
    "process_receipts('receipts.json', 'receipts_main.json', 'receipt_items.json')"
   ]
  }
 ],
 "metadata": {
  "kernelspec": {
   "display_name": "base",
   "language": "python",
   "name": "python3"
  },
  "language_info": {
   "codemirror_mode": {
    "name": "ipython",
    "version": 3
   },
   "file_extension": ".py",
   "mimetype": "text/x-python",
   "name": "python",
   "nbconvert_exporter": "python",
   "pygments_lexer": "ipython3",
   "version": "3.12.4"
  }
 },
 "nbformat": 4,
 "nbformat_minor": 2
}
