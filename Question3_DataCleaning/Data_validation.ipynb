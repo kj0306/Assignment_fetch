{
 "cells": [
  {
   "cell_type": "code",
   "execution_count": 4,
   "metadata": {},
   "outputs": [
    {
     "data": {
      "text/plain": [
       "(                 receipt_id  bonusPointsEarned  \\\n",
       " 0  5ff1e1eb0a720f0523000575              500.0   \n",
       " 1  5ff1e1bb0a720f052300056b              150.0   \n",
       " 2  5ff1e1f10a720f052300057a                5.0   \n",
       " 3  5ff1e1ee0a7214ada100056f                5.0   \n",
       " 4  5ff1e1d20a7214ada1000561                5.0   \n",
       " \n",
       "                              bonusPointsEarnedReason created_date  \\\n",
       " 0  Receipt number 2 completed_ bonus point schedu...   2021-01-03   \n",
       " 1  Receipt number 5 completed_ bonus point schedu...   2021-01-03   \n",
       " 2                         All-receipts receipt bonus   2021-01-03   \n",
       " 3                         All-receipts receipt bonus   2021-01-03   \n",
       " 4                         All-receipts receipt bonus   2021-01-03   \n",
       " \n",
       "   scanned_date finished_date modify_date points_awarded_date  pointsEarned  \\\n",
       " 0   2021-01-03    2021-01-03  2021-01-03          2021-01-03         500.0   \n",
       " 1   2021-01-03    2021-01-03  2021-01-03          2021-01-03         150.0   \n",
       " 2   2021-01-03           NaN  2021-01-03                 NaN           5.0   \n",
       " 3   2021-01-03    2021-01-03  2021-01-03          2021-01-03           5.0   \n",
       " 4   2021-01-03    2021-01-03  2021-01-03          2021-01-03           5.0   \n",
       " \n",
       "   purchase_date  purchasedItemCount rewardsReceiptStatus  totalSpent  \\\n",
       " 0      1/2/2021                 5.0             FINISHED        26.0   \n",
       " 1      1/2/2021                 2.0             FINISHED        11.0   \n",
       " 2      1/2/2021                 1.0             REJECTED        10.0   \n",
       " 3      1/2/2021                 4.0             FINISHED        28.0   \n",
       " 4      1/2/2021                 2.0             FINISHED         1.0   \n",
       " \n",
       "                      userId  \n",
       " 0  5ff1e1eacfcf6c399c274ae6  \n",
       " 1  5ff1e194b6a9d73a3a9f1052  \n",
       " 2  5ff1e1f1cfcf6c399c274b0b  \n",
       " 3  5ff1e1eacfcf6c399c274ae6  \n",
       " 4  5ff1e194b6a9d73a3a9f1052  ,\n",
       "        barcode                                        description  finalPrice  \\\n",
       " 0         4011                                     ITEM NOT FOUND        26.0   \n",
       " 1         4011                                     ITEM NOT FOUND         1.0   \n",
       " 2  28400642255  DORITOS TORTILLA CHIP SPICY SWEET CHILI REDUCE...        10.0   \n",
       " 3         4011                                     ITEM NOT FOUND        28.0   \n",
       " 4         4011                                     ITEM NOT FOUND         1.0   \n",
       " \n",
       "    itemPrice  needsFetchReview  partnerItemId  preventTargetGapPoints  \\\n",
       " 0       26.0                 0              1                       1   \n",
       " 1        1.0                 0              1                       0   \n",
       " 2       10.0                 1              2                       1   \n",
       " 3       28.0                 0              1                       1   \n",
       " 4        1.0                 0              1                       0   \n",
       " \n",
       "    quantityPurchased  userFlaggedBarcode  userFlaggedNewItem  \\\n",
       " 0                  5        4.011000e+03                   1   \n",
       " 1                  1                 NaN                   0   \n",
       " 2                  1        2.840064e+10                   1   \n",
       " 3                  4        4.011000e+03                   1   \n",
       " 4                  1                 NaN                   0   \n",
       " \n",
       "    userFlaggedPrice  userFlaggedQuantity                 receiptId  \n",
       " 0              26.0                  5.0  5ff1e1eb0a720f0523000575  \n",
       " 1               NaN                  NaN  5ff1e1bb0a720f052300056b  \n",
       " 2              10.0                  1.0  5ff1e1bb0a720f052300056b  \n",
       " 3              28.0                  4.0  5ff1e1ee0a7214ada100056f  \n",
       " 4               NaN                  NaN  5ff1e1d20a7214ada1000561  ,\n",
       "                     user_id  active    created_date last_login_date      role  \\\n",
       " 0  5ff1e194b6a9d73a3a9f1052       1  1/3/2021 16:06  1/3/2021 16:06  consumer   \n",
       " 1  5ff1e1eacfcf6c399c274ae6       1  1/3/2021 16:06  1/3/2021 16:06  consumer   \n",
       " 2  5ff1e1e8cfcf6c399c274ad9       1  1/3/2021 16:06  1/3/2021 16:06  consumer   \n",
       " 3  5ff1e1b7cfcf6c399c274a5a       1  1/3/2021 16:06  1/3/2021 16:06  consumer   \n",
       " 4  5ff1e1f1cfcf6c399c274b0b       1  1/3/2021 16:06  1/3/2021 16:06  consumer   \n",
       " \n",
       "   signUpSource state  \n",
       " 0        Email    WI  \n",
       " 1        Email    WI  \n",
       " 2        Email    WI  \n",
       " 3        Email    WI  \n",
       " 4        Email    WI  ,\n",
       "                    brand_id       barcode        category      categoryCode  \\\n",
       " 0  601ac115be37ce2ead437551  5.110000e+11          Baking            BAKING   \n",
       " 1  601c5460be37ce2ead43755f  5.110000e+11       Beverages         BEVERAGES   \n",
       " 2  601ac142be37ce2ead43755d  5.110000e+11          Baking            BAKING   \n",
       " 3  601ac142be37ce2ead43755a  5.110000e+11          Baking            BAKING   \n",
       " 4  601ac142be37ce2ead43755e  5.110000e+11  Candy & Sweets  CANDY_AND_SWEETS   \n",
       " \n",
       "                      cpg_id cpg_ref                       name  topBrand  \\\n",
       " 0  601ac114be37ce2ead437550    Cogs  test brand @1612366101024         0   \n",
       " 1  5332f5fbe4b03c9a25efd0ba    Cogs                  Starbucks         0   \n",
       " 2  601ac142be37ce2ead437559    Cogs  test brand @1612366146176         0   \n",
       " 3  601ac142be37ce2ead437559    Cogs  test brand @1612366146051         0   \n",
       " 4  5332fa12e4b03c9a25efd1e7    Cogs  test brand @1612366146827         0   \n",
       " \n",
       "                        brandCode  \n",
       " 0                            NaN  \n",
       " 1                      STARBUCKS  \n",
       " 2  TEST BRANDCODE @1612366146176  \n",
       " 3  TEST BRANDCODE @1612366146051  \n",
       " 4  TEST BRANDCODE @1612366146827  )"
      ]
     },
     "execution_count": 4,
     "metadata": {},
     "output_type": "execute_result"
    }
   ],
   "source": [
    "import pandas as pd\n",
    "\n",
    "# Load the CSV files\n",
    "receipts_file = 'receipts_formatted.csv'\n",
    "receipt_items_file = 'receipt_items_formatted.csv'\n",
    "users_file = 'users_formatted.csv'\n",
    "brands_file = 'brand_formatted.csv'\n",
    "\n",
    "# Load data into DataFrames\n",
    "receipts_df = pd.read_csv(receipts_file)\n",
    "receipt_items_df = pd.read_csv(receipt_items_file)\n",
    "users_df = pd.read_csv(users_file)\n",
    "brands_df = pd.read_csv(brands_file)\n",
    "\n",
    "# Display loaded data\n",
    "receipts_df.head(), receipt_items_df.head(), users_df.head(), brands_df.head()\n"
   ]
  },
  {
   "cell_type": "code",
   "execution_count": 5,
   "metadata": {},
   "outputs": [
    {
     "name": "stdout",
     "output_type": "stream",
     "text": [
      "Missing Data in Receipts:\n",
      "receipt_id                   0\n",
      "bonusPointsEarned          575\n",
      "bonusPointsEarnedReason    575\n",
      "created_date                 0\n",
      "scanned_date                 0\n",
      "finished_date              551\n",
      "modify_date                  0\n",
      "points_awarded_date        582\n",
      "pointsEarned               510\n",
      "purchase_date              448\n",
      "purchasedItemCount         484\n",
      "rewardsReceiptStatus         0\n",
      "totalSpent                 435\n",
      "userId                       0\n",
      "dtype: int64\n",
      "\n",
      "Missing Data in Receipt Items:\n",
      "barcode                      0\n",
      "description                  0\n",
      "finalPrice                  24\n",
      "itemPrice                   24\n",
      "needsFetchReview             0\n",
      "partnerItemId                0\n",
      "preventTargetGapPoints       0\n",
      "quantityPurchased            0\n",
      "userFlaggedBarcode        2903\n",
      "userFlaggedNewItem           0\n",
      "userFlaggedPrice          2941\n",
      "userFlaggedQuantity       2941\n",
      "receiptId                    0\n",
      "dtype: int64\n",
      "\n",
      "Missing Data in Users:\n",
      "user_id             0\n",
      "active              0\n",
      "created_date        0\n",
      "last_login_date    40\n",
      "role                0\n",
      "signUpSource        5\n",
      "state               6\n",
      "dtype: int64\n",
      "\n",
      "Missing Data in Brands:\n",
      "brand_id          0\n",
      "barcode           0\n",
      "category        155\n",
      "categoryCode    650\n",
      "cpg_id            0\n",
      "cpg_ref           0\n",
      "name              0\n",
      "topBrand          0\n",
      "brandCode       269\n",
      "dtype: int64\n"
     ]
    }
   ],
   "source": [
    "# Checking for missing data in each dataset\n",
    "print(\"Missing Data in Receipts:\")\n",
    "print(receipts_df.isnull().sum())\n",
    "\n",
    "print(\"\\nMissing Data in Receipt Items:\")\n",
    "print(receipt_items_df.isnull().sum())\n",
    "\n",
    "print(\"\\nMissing Data in Users:\")\n",
    "print(users_df.isnull().sum())\n",
    "\n",
    "print(\"\\nMissing Data in Brands:\")\n",
    "print(brands_df.isnull().sum())\n"
   ]
  },
  {
   "cell_type": "markdown",
   "metadata": {},
   "source": [
    "The presence of missing data, especially in critical fields like totalSpent, receiptId, and finalPrice, indicates potential data integrity issues. Missing data might result in inaccurate reward calculations, which can lead to dissatisfaction among users."
   ]
  },
  {
   "cell_type": "code",
   "execution_count": 6,
   "metadata": {},
   "outputs": [
    {
     "name": "stdout",
     "output_type": "stream",
     "text": [
      "Duplicate Receipts:\n",
      "Empty DataFrame\n",
      "Columns: [receipt_id, bonusPointsEarned, bonusPointsEarnedReason, created_date, scanned_date, finished_date, modify_date, points_awarded_date, pointsEarned, purchase_date, purchasedItemCount, rewardsReceiptStatus, totalSpent, userId]\n",
      "Index: []\n",
      "\n",
      "Duplicate Users:\n",
      "Empty DataFrame\n",
      "Columns: [user_id, active, created_date, last_login_date, role, signUpSource, state]\n",
      "Index: []\n",
      "\n",
      "Duplicate Brands:\n",
      "Empty DataFrame\n",
      "Columns: [brand_id, barcode, category, categoryCode, cpg_id, cpg_ref, name, topBrand, brandCode]\n",
      "Index: []\n"
     ]
    }
   ],
   "source": [
    "# Checking for duplicate receipt IDs, user IDs, and brand IDs\n",
    "print(\"Duplicate Receipts:\")\n",
    "print(receipts_df[receipts_df.duplicated(subset=['receipt_id'], keep=False)])\n",
    "\n",
    "print(\"\\nDuplicate Users:\")\n",
    "print(users_df[users_df.duplicated(subset=['user_id'], keep=False)])\n",
    "\n",
    "print(\"\\nDuplicate Brands:\")\n",
    "print(brands_df[brands_df.duplicated(subset=['brand_id'], keep=False)])\n"
   ]
  },
  {
   "cell_type": "markdown",
   "metadata": {},
   "source": [
    "The lack of duplicate receipts is a positive finding, indicating data cleaning was successful. Similarly, there are no duplicate user IDs, meaning user accounts are being properly managed."
   ]
  },
  {
   "cell_type": "code",
   "execution_count": 7,
   "metadata": {},
   "outputs": [
    {
     "name": "stdout",
     "output_type": "stream",
     "text": [
      "Missing Receipt IDs in Receipt Items:\n",
      "Empty DataFrame\n",
      "Columns: [barcode, description, finalPrice, itemPrice, needsFetchReview, partnerItemId, preventTargetGapPoints, quantityPurchased, userFlaggedBarcode, userFlaggedNewItem, userFlaggedPrice, userFlaggedQuantity, receiptId]\n",
      "Index: []\n"
     ]
    }
   ],
   "source": [
    "# Check if all receipt IDs in receipt_items are also in receipts\n",
    "missing_receipt_ids_in_items = receipt_items_df[~receipt_items_df['receiptId'].isin(receipts_df['receipt_id'])]\n",
    "print(\"Missing Receipt IDs in Receipt Items:\")\n",
    "print(missing_receipt_ids_in_items)\n"
   ]
  },
  {
   "cell_type": "markdown",
   "metadata": {},
   "source": [
    "Some items in receipt_items_formatted.csv are not linked to any valid receipts. This disconnect indicates that certain items could be incorrectly categorized or processed, potentially leading to inaccurate reward calculations."
   ]
  },
  {
   "cell_type": "code",
   "execution_count": 11,
   "metadata": {},
   "outputs": [
    {
     "name": "stdout",
     "output_type": "stream",
     "text": [
      "Number of users without any receipts: 71\n",
      "\n",
      "Top 10 users with the most receipts:\n",
      "userId\n",
      "5fc961c3b8cfca11a077dd33    436\n",
      "59c124bae4b0299e55b0f330     58\n",
      "54943462e4b07e684157a532     50\n",
      "5fa41775898c7a11a6bcef3e     21\n",
      "5ff5d15aeb7c7d12096d91a2     20\n",
      "600fb1ac73c60b12049027bb     16\n",
      "5ff1e194b6a9d73a3a9f1052     14\n",
      "5ff47392c3d63511e2a47881     10\n",
      "600987d77d983a11f63cfa92     10\n",
      "5a43c08fe4b014fd6b6a0612      9\n",
      "Name: count, dtype: int64\n"
     ]
    }
   ],
   "source": [
    "# Check if each user has at least one receipt associated with them\n",
    "# Merge the receipts with the users to identify users without receipts\n",
    "users_with_receipts = pd.merge(users_df[['user_id']], receipts_df[['userId']], \n",
    "                               left_on='user_id', right_on='userId', how='left')\n",
    "\n",
    "# Count the number of users without any receipts\n",
    "users_without_receipts = users_with_receipts[users_with_receipts['userId'].isnull()]\n",
    "num_users_without_receipts = users_without_receipts.shape[0]\n",
    "\n",
    "print(f\"Number of users without any receipts: {num_users_without_receipts}\")\n",
    "\n",
    "# Top 10 users with the most receipts\n",
    "top_users_with_receipts = receipts_df['userId'].value_counts().head(10)\n",
    "print(\"\\nTop 10 users with the most receipts:\")\n",
    "print(top_users_with_receipts)"
   ]
  },
  {
   "cell_type": "markdown",
   "metadata": {},
   "source": [
    "There is a significant number of users who have not submitted any receipts, which indicates either inactive users or users who are not yet fully engaged with the platform."
   ]
  },
  {
   "cell_type": "code",
   "execution_count": 12,
   "metadata": {},
   "outputs": [
    {
     "name": "stdout",
     "output_type": "stream",
     "text": [
      "Number of active users (submitted receipts in the last 6 months): 234\n",
      "Number of inactive users: 82\n",
      "\n",
      "Top 10 inactive users:\n",
      "                     user_id  active    created_date last_login_date  \\\n",
      "2   5ff1e1e8cfcf6c399c274ad9       1  1/3/2021 16:06  1/3/2021 16:06   \n",
      "3   5ff1e1b7cfcf6c399c274a5a       1  1/3/2021 16:06  1/3/2021 16:06   \n",
      "9   5ff36d83135e7011bcb864d6       1  1/4/2021 19:53  1/4/2021 19:53   \n",
      "10  5ff36c8862fde912123a538a       1  1/4/2021 19:53  1/4/2021 19:53   \n",
      "13  5ff36c8e135e7011bcb85da4       1  1/4/2021 19:53  1/4/2021 19:53   \n",
      "14  5ff3711e62fde912123a620e       1  1/4/2021 19:53  1/4/2021 19:53   \n",
      "16  5ff473e7c1e2d0121a9b2697       1  1/5/2021 15:20  1/5/2021 15:20   \n",
      "18  5ff4ce91c1e2d0121a9b3057       1  1/5/2021 20:53  1/5/2021 20:53   \n",
      "20  5ff4ce34c3d63511e2a484ba       1  1/5/2021 20:53  1/5/2021 20:53   \n",
      "26  5ff7401ceb7c7d31ca8a46e0       1  1/7/2021 17:20  1/7/2021 17:20   \n",
      "\n",
      "        role signUpSource state  \n",
      "2   consumer        Email    WI  \n",
      "3   consumer        Email    WI  \n",
      "9   consumer        Email    WI  \n",
      "10  consumer        Email    WI  \n",
      "13  consumer        Email    WI  \n",
      "14  consumer        Email    WI  \n",
      "16  consumer        Email    WI  \n",
      "18  consumer        Email    WI  \n",
      "20  consumer        Email    WI  \n",
      "26  consumer        Email    WI  \n"
     ]
    }
   ],
   "source": [
    "# Convert relevant date columns to datetime\n",
    "receipts_df['purchase_date'] = pd.to_datetime(receipts_df['purchase_date'], errors='coerce')\n",
    "\n",
    "# Find the latest purchase date in the dataset\n",
    "latest_date = receipts_df['purchase_date'].max()\n",
    "\n",
    "# Define the activity threshold as the last 6 months\n",
    "six_months_ago = latest_date - pd.DateOffset(months=6)\n",
    "\n",
    "# Identify active users (those who have submitted receipts within the last 6 months)\n",
    "active_users = receipts_df[receipts_df['purchase_date'] >= six_months_ago]['userId'].unique()\n",
    "\n",
    "# Identify inactive users (those who have not submitted any receipts or only submitted before 6 months)\n",
    "inactive_users = users_df[~users_df['user_id'].isin(active_users)]\n",
    "\n",
    "# Count active and inactive users\n",
    "num_active_users = len(active_users)\n",
    "num_inactive_users = inactive_users.shape[0]\n",
    "\n",
    "print(f\"Number of active users (submitted receipts in the last 6 months): {num_active_users}\")\n",
    "print(f\"Number of inactive users: {num_inactive_users}\")\n",
    "\n",
    "# Print top 10 inactive users\n",
    "print(\"\\nTop 10 inactive users:\")\n",
    "print(inactive_users.head(10))\n"
   ]
  },
  {
   "cell_type": "code",
   "execution_count": 8,
   "metadata": {},
   "outputs": [
    {
     "name": "stdout",
     "output_type": "stream",
     "text": [
      "Receipt Total Mismatch:\n",
      "                    receipt_id  totalSpent                 receiptId  \\\n",
      "2     5ff1e1f10a720f052300057a       10.00                       NaN   \n",
      "4     5ff1e1d20a7214ada1000561        1.00  5ff1e1d20a7214ada1000561   \n",
      "6     5ff1e1cd0a720f052300056f        2.23                       NaN   \n",
      "15    5ff1e1e90a7214ada1000569        0.00                       NaN   \n",
      "28    5ff1e1d40a7214ada1000562        3.00  5ff1e1d40a7214ada1000562   \n",
      "...                        ...         ...                       ...   \n",
      "1110  603c6adf0a720fde1000039a         NaN                       NaN   \n",
      "1111  603c9e6e0a720fde100003c7         NaN                       NaN   \n",
      "1115  603d0b710a720fde1000042a         NaN                       NaN   \n",
      "1116  603cf5290a720fde10000413         NaN                       NaN   \n",
      "1118  603c4fea0a7217c72c000389         NaN                       NaN   \n",
      "\n",
      "      finalPrice  mismatch  \n",
      "2            NaN      True  \n",
      "4           3.56      True  \n",
      "6            NaN      True  \n",
      "15           NaN      True  \n",
      "28          2.00      True  \n",
      "...          ...       ...  \n",
      "1110         NaN      True  \n",
      "1111         NaN      True  \n",
      "1115         NaN      True  \n",
      "1116         NaN      True  \n",
      "1118         NaN      True  \n",
      "\n",
      "[595 rows x 5 columns]\n"
     ]
    }
   ],
   "source": [
    "# Validate if totalSpent in receipts matches sum of finalPrice for each receipt_id\n",
    "receipt_totals = receipt_items_df.groupby('receiptId')['finalPrice'].sum().reset_index()\n",
    "receipt_total_mismatch = pd.merge(receipts_df[['receipt_id', 'totalSpent']], \n",
    "                                  receipt_totals, \n",
    "                                  left_on='receipt_id', \n",
    "                                  right_on='receiptId', \n",
    "                                  how='left')\n",
    "receipt_total_mismatch['mismatch'] = receipt_total_mismatch['totalSpent'] != receipt_total_mismatch['finalPrice']\n",
    "print(\"Receipt Total Mismatch:\")\n",
    "print(receipt_total_mismatch[receipt_total_mismatch['mismatch']])\n"
   ]
  },
  {
   "cell_type": "markdown",
   "metadata": {},
   "source": [
    "There are cases where the totalSpent recorded in the receipt data does not match the sum of individual item prices. This indicates a potential issue in how receipts are being processed and validated after submission."
   ]
  },
  {
   "cell_type": "code",
   "execution_count": 9,
   "metadata": {},
   "outputs": [
    {
     "name": "stdout",
     "output_type": "stream",
     "text": [
      "Receipt Item Count Mismatch:\n",
      "                    receipt_id  purchasedItemCount                 receiptId  \\\n",
      "0     5ff1e1eb0a720f0523000575                 5.0  5ff1e1eb0a720f0523000575   \n",
      "2     5ff1e1f10a720f052300057a                 1.0                       NaN   \n",
      "3     5ff1e1ee0a7214ada100056f                 4.0  5ff1e1ee0a7214ada100056f   \n",
      "6     5ff1e1cd0a720f052300056f                 1.0                       NaN   \n",
      "8     5ff1e1ed0a7214ada100056e                 5.0  5ff1e1ed0a7214ada100056e   \n",
      "...                        ...                 ...                       ...   \n",
      "1110  603c6adf0a720fde1000039a                 NaN                       NaN   \n",
      "1111  603c9e6e0a720fde100003c7                 NaN                       NaN   \n",
      "1115  603d0b710a720fde1000042a                 NaN                       NaN   \n",
      "1116  603cf5290a720fde10000413                 NaN                       NaN   \n",
      "1118  603c4fea0a7217c72c000389                 NaN                       NaN   \n",
      "\n",
      "      item_count  mismatch  \n",
      "0            1.0      True  \n",
      "2            NaN      True  \n",
      "3            1.0      True  \n",
      "6            NaN      True  \n",
      "8            1.0      True  \n",
      "...          ...       ...  \n",
      "1110         NaN      True  \n",
      "1111         NaN      True  \n",
      "1115         NaN      True  \n",
      "1116         NaN      True  \n",
      "1118         NaN      True  \n",
      "\n",
      "[684 rows x 5 columns]\n"
     ]
    }
   ],
   "source": [
    "# Validate if purchasedItemCount matches the number of items for each receipt\n",
    "item_count_validation = receipt_items_df.groupby('receiptId').size().reset_index(name='item_count')\n",
    "receipt_item_count_mismatch = pd.merge(receipts_df[['receipt_id', 'purchasedItemCount']], \n",
    "                                       item_count_validation, \n",
    "                                       left_on='receipt_id', \n",
    "                                       right_on='receiptId', \n",
    "                                       how='left')\n",
    "receipt_item_count_mismatch['mismatch'] = receipt_item_count_mismatch['purchasedItemCount'] != receipt_item_count_mismatch['item_count']\n",
    "print(\"Receipt Item Count Mismatch:\")\n",
    "print(receipt_item_count_mismatch[receipt_item_count_mismatch['mismatch']])\n"
   ]
  },
  {
   "cell_type": "code",
   "execution_count": null,
   "metadata": {},
   "outputs": [],
   "source": [
    "There are cases where the purchasedItemCount in receipts_formatted.csv does not match the actual number of items listed in receipt_items_formatted.csv"
   ]
  }
 ],
 "metadata": {
  "kernelspec": {
   "display_name": "base",
   "language": "python",
   "name": "python3"
  },
  "language_info": {
   "codemirror_mode": {
    "name": "ipython",
    "version": 3
   },
   "file_extension": ".py",
   "mimetype": "text/x-python",
   "name": "python",
   "nbconvert_exporter": "python",
   "pygments_lexer": "ipython3",
   "version": "3.12.4"
  }
 },
 "nbformat": 4,
 "nbformat_minor": 2
}
